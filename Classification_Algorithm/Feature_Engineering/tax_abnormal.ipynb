{
 "cells": [
  {
   "cell_type": "code",
   "execution_count": 1,
   "metadata": {},
   "outputs": [],
   "source": [
    "import pandas as pd\n",
    "import numpy as np"
   ]
  },
  {
   "cell_type": "code",
   "execution_count": 51,
   "metadata": {},
   "outputs": [],
   "source": [
    "path = \"../Data/Online_Data/trainning_data/corporate_attributes/\"\n",
    "outpath = \"../Processed_Data/\""
   ]
  },
  {
   "cell_type": "code",
   "execution_count": 52,
   "metadata": {},
   "outputs": [
    {
     "name": "stderr",
     "output_type": "stream",
     "text": [
      "<ipython-input-52-0e68c0b00feb>:1: FutureWarning: Your version of xlrd is 1.2.0. In xlrd >= 2.0, only the xls format is supported. As a result, the openpyxl engine will be used if it is installed and the engine argument is not specified. Install openpyxl instead.\n",
      "  df_tax_abn = pd.read_excel(path+'tax_abnormal.xlsx')\n"
     ]
    },
    {
     "data": {
      "text/html": [
       "<div>\n",
       "<style scoped>\n",
       "    .dataframe tbody tr th:only-of-type {\n",
       "        vertical-align: middle;\n",
       "    }\n",
       "\n",
       "    .dataframe tbody tr th {\n",
       "        vertical-align: top;\n",
       "    }\n",
       "\n",
       "    .dataframe thead th {\n",
       "        text-align: right;\n",
       "    }\n",
       "</style>\n",
       "<table border=\"1\" class=\"dataframe\">\n",
       "  <thead>\n",
       "    <tr style=\"text-align: right;\">\n",
       "      <th></th>\n",
       "      <th>entid</th>\n",
       "      <th>tax_type</th>\n",
       "      <th>tax_state</th>\n",
       "      <th>cdate</th>\n",
       "      <th>ttype</th>\n",
       "      <th>province</th>\n",
       "    </tr>\n",
       "  </thead>\n",
       "  <tbody>\n",
       "    <tr>\n",
       "      <th>0</th>\n",
       "      <td>722691858</td>\n",
       "      <td>1</td>\n",
       "      <td>0</td>\n",
       "      <td>NaT</td>\n",
       "      <td>2</td>\n",
       "      <td>1</td>\n",
       "    </tr>\n",
       "    <tr>\n",
       "      <th>1</th>\n",
       "      <td>705310922</td>\n",
       "      <td>1</td>\n",
       "      <td>0</td>\n",
       "      <td>NaT</td>\n",
       "      <td>2</td>\n",
       "      <td>1</td>\n",
       "    </tr>\n",
       "  </tbody>\n",
       "</table>\n",
       "</div>"
      ],
      "text/plain": [
       "       entid  tax_type  tax_state cdate  ttype  province\n",
       "0  722691858         1          0   NaT      2         1\n",
       "1  705310922         1          0   NaT      2         1"
      ]
     },
     "execution_count": 52,
     "metadata": {},
     "output_type": "execute_result"
    }
   ],
   "source": [
    "df_tax_abn = pd.read_csv(path+'tax_abnormal.csv')\n",
    "df_tax_abn.head(2)"
   ]
  },
  {
   "cell_type": "code",
   "execution_count": 53,
   "metadata": {},
   "outputs": [
    {
     "data": {
      "text/plain": [
       "2    198\n",
       "1     55\n",
       "5     39\n",
       "8     22\n",
       "0     19\n",
       "3     11\n",
       "7      7\n",
       "9      5\n",
       "4      2\n",
       "6      1\n",
       "Name: province, dtype: int64"
      ]
     },
     "execution_count": 53,
     "metadata": {},
     "output_type": "execute_result"
    }
   ],
   "source": [
    "df_tax_abn['province'].value_counts()"
   ]
  },
  {
   "cell_type": "code",
   "execution_count": 20,
   "metadata": {},
   "outputs": [
    {
     "data": {
      "text/plain": [
       "(359, 6)"
      ]
     },
     "execution_count": 20,
     "metadata": {},
     "output_type": "execute_result"
    }
   ],
   "source": [
    "df_tax_abn.shape"
   ]
  },
  {
   "cell_type": "code",
   "execution_count": 42,
   "metadata": {},
   "outputs": [],
   "source": [
    "df_tax_abn['tax_abnormal'] = 1"
   ]
  },
  {
   "cell_type": "code",
   "execution_count": 44,
   "metadata": {},
   "outputs": [],
   "source": [
    "df = df_tax_abn[['entid', 'tax_abnormal']]"
   ]
  },
  {
   "cell_type": "code",
   "execution_count": 45,
   "metadata": {},
   "outputs": [
    {
     "data": {
      "text/html": [
       "<div>\n",
       "<style scoped>\n",
       "    .dataframe tbody tr th:only-of-type {\n",
       "        vertical-align: middle;\n",
       "    }\n",
       "\n",
       "    .dataframe tbody tr th {\n",
       "        vertical-align: top;\n",
       "    }\n",
       "\n",
       "    .dataframe thead th {\n",
       "        text-align: right;\n",
       "    }\n",
       "</style>\n",
       "<table border=\"1\" class=\"dataframe\">\n",
       "  <thead>\n",
       "    <tr style=\"text-align: right;\">\n",
       "      <th></th>\n",
       "      <th>entid</th>\n",
       "      <th>tax_abnormal</th>\n",
       "    </tr>\n",
       "  </thead>\n",
       "  <tbody>\n",
       "    <tr>\n",
       "      <th>0</th>\n",
       "      <td>5503066</td>\n",
       "      <td>1</td>\n",
       "    </tr>\n",
       "    <tr>\n",
       "      <th>1</th>\n",
       "      <td>21013823</td>\n",
       "      <td>1</td>\n",
       "    </tr>\n",
       "    <tr>\n",
       "      <th>2</th>\n",
       "      <td>21495398</td>\n",
       "      <td>1</td>\n",
       "    </tr>\n",
       "    <tr>\n",
       "      <th>3</th>\n",
       "      <td>21798098</td>\n",
       "      <td>1</td>\n",
       "    </tr>\n",
       "    <tr>\n",
       "      <th>4</th>\n",
       "      <td>23396983</td>\n",
       "      <td>1</td>\n",
       "    </tr>\n",
       "  </tbody>\n",
       "</table>\n",
       "</div>"
      ],
      "text/plain": [
       "      entid  tax_abnormal\n",
       "0   5503066             1\n",
       "1  21013823             1\n",
       "2  21495398             1\n",
       "3  21798098             1\n",
       "4  23396983             1"
      ]
     },
     "execution_count": 45,
     "metadata": {},
     "output_type": "execute_result"
    }
   ],
   "source": [
    "df_numerical = df[['entid', 'tax_abnormal']].groupby(\"entid\")\n",
    "df_numerical = df_numerical.count()\n",
    "df_numerical = df_numerical.reset_index()\n",
    "df_numerical.head()"
   ]
  },
  {
   "cell_type": "code",
   "execution_count": 46,
   "metadata": {},
   "outputs": [
    {
     "data": {
      "text/plain": [
       "1     253\n",
       "2      23\n",
       "3       3\n",
       "4       2\n",
       "8       1\n",
       "9       1\n",
       "26      1\n",
       "Name: tax_abnormal, dtype: int64"
      ]
     },
     "execution_count": 46,
     "metadata": {},
     "output_type": "execute_result"
    }
   ],
   "source": [
    "df_numerical.to_csv()"
   ]
  },
  {
   "cell_type": "code",
   "execution_count": 47,
   "metadata": {},
   "outputs": [],
   "source": [
    "df_numerical.to_csv(outpath+'tax_abnormal_processed.csv', index = 0)"
   ]
  },
  {
   "cell_type": "code",
   "execution_count": null,
   "metadata": {},
   "outputs": [],
   "source": []
  },
  {
   "cell_type": "code",
   "execution_count": null,
   "metadata": {},
   "outputs": [],
   "source": []
  },
  {
   "cell_type": "code",
   "execution_count": null,
   "metadata": {},
   "outputs": [],
   "source": []
  },
  {
   "cell_type": "markdown",
   "metadata": {},
   "source": [
    "## drop col with 58% na"
   ]
  },
  {
   "cell_type": "code",
   "execution_count": 21,
   "metadata": {},
   "outputs": [
    {
     "data": {
      "text/html": [
       "<div>\n",
       "<style scoped>\n",
       "    .dataframe tbody tr th:only-of-type {\n",
       "        vertical-align: middle;\n",
       "    }\n",
       "\n",
       "    .dataframe tbody tr th {\n",
       "        vertical-align: top;\n",
       "    }\n",
       "\n",
       "    .dataframe thead th {\n",
       "        text-align: right;\n",
       "    }\n",
       "</style>\n",
       "<table border=\"1\" class=\"dataframe\">\n",
       "  <thead>\n",
       "    <tr style=\"text-align: right;\">\n",
       "      <th></th>\n",
       "      <th>entid</th>\n",
       "      <th>tax_type</th>\n",
       "      <th>tax_state</th>\n",
       "      <th>ttype</th>\n",
       "      <th>province</th>\n",
       "    </tr>\n",
       "  </thead>\n",
       "  <tbody>\n",
       "    <tr>\n",
       "      <th>0</th>\n",
       "      <td>722691858</td>\n",
       "      <td>1</td>\n",
       "      <td>0</td>\n",
       "      <td>2</td>\n",
       "      <td>1</td>\n",
       "    </tr>\n",
       "    <tr>\n",
       "      <th>1</th>\n",
       "      <td>705310922</td>\n",
       "      <td>1</td>\n",
       "      <td>0</td>\n",
       "      <td>2</td>\n",
       "      <td>1</td>\n",
       "    </tr>\n",
       "  </tbody>\n",
       "</table>\n",
       "</div>"
      ],
      "text/plain": [
       "       entid  tax_type  tax_state  ttype  province\n",
       "0  722691858         1          0      2         1\n",
       "1  705310922         1          0      2         1"
      ]
     },
     "execution_count": 21,
     "metadata": {},
     "output_type": "execute_result"
    }
   ],
   "source": [
    "# column to drop\n",
    "df_tax_abn = df_tax_abn.drop(['cdate'], axis=1)\n",
    "df_tax_abn.iloc[[0,1]]"
   ]
  },
  {
   "cell_type": "code",
   "execution_count": 23,
   "metadata": {},
   "outputs": [
    {
     "data": {
      "text/plain": [
       "(359, 5)"
      ]
     },
     "execution_count": 23,
     "metadata": {},
     "output_type": "execute_result"
    }
   ],
   "source": [
    "df_tax_abn.shape"
   ]
  },
  {
   "cell_type": "code",
   "execution_count": 31,
   "metadata": {},
   "outputs": [],
   "source": [
    "tax_type_dict = {0: 10, 1:11, 2:12, 3:13, 4: 14}\n",
    "df_tax_abn = df_tax_abn.replace({\"tax_type\": tax_type_dict})"
   ]
  },
  {
   "cell_type": "code",
   "execution_count": 32,
   "metadata": {},
   "outputs": [],
   "source": [
    "tax_state_dict = {0: 1, 1: 2, 2: 3, 3: 4, 4: 5}\n",
    "df_tax_abn = df_tax_abn.replace({\"tax_state\": tax_state_dict})"
   ]
  },
  {
   "cell_type": "code",
   "execution_count": 33,
   "metadata": {},
   "outputs": [],
   "source": [
    "ttype_dict = {1: 100, 2: 200}\n",
    "df_tax_abn = df_tax_abn.replace({\"ttype\": ttype_dict})"
   ]
  },
  {
   "cell_type": "code",
   "execution_count": 34,
   "metadata": {},
   "outputs": [],
   "source": [
    "province_dict = {0:15 , 1:16, 2:17, 3:18, 4: 19,\n",
    "                5: 20, 6:21, 7:22, 8:23, 9: 24}\n",
    "df_tax_abn = df_tax_abn.replace({\"province\": province_dict})"
   ]
  },
  {
   "cell_type": "code",
   "execution_count": 40,
   "metadata": {},
   "outputs": [],
   "source": [
    "df_tax_abn['tax_represent'] = df_tax_abn['tax_type'] + df_tax_abn['tax_state'] * 10 + \\\n",
    "                        df_tax_abn['ttype'] * 100 # + df_tax_abn['province'] * 1000"
   ]
  },
  {
   "cell_type": "code",
   "execution_count": null,
   "metadata": {},
   "outputs": [],
   "source": []
  },
  {
   "cell_type": "code",
   "execution_count": 41,
   "metadata": {},
   "outputs": [
    {
     "data": {
      "text/plain": [
       "10020    185\n",
       "20020     44\n",
       "20053     38\n",
       "10023     34\n",
       "10049     23\n",
       "10053     12\n",
       "20033      9\n",
       "10021      5\n",
       "20023      4\n",
       "10042      2\n",
       "10019      1\n",
       "10041      1\n",
       "10043      1\n",
       "Name: tax_represent, dtype: int64"
      ]
     },
     "execution_count": 41,
     "metadata": {},
     "output_type": "execute_result"
    }
   ],
   "source": [
    "df_tax_abn['tax_represent'].value_counts()"
   ]
  },
  {
   "cell_type": "code",
   "execution_count": 15,
   "metadata": {},
   "outputs": [
    {
     "data": {
      "text/plain": [
       "1    264\n",
       "2     95\n",
       "Name: ttype, dtype: int64"
      ]
     },
     "execution_count": 15,
     "metadata": {},
     "output_type": "execute_result"
    }
   ],
   "source": [
    "df_tax_abn['ttype'].value_counts()"
   ]
  },
  {
   "cell_type": "code",
   "execution_count": 16,
   "metadata": {},
   "outputs": [
    {
     "data": {
      "text/plain": [
       "2    198\n",
       "1     55\n",
       "5     39\n",
       "8     22\n",
       "0     19\n",
       "3     11\n",
       "7      7\n",
       "9      5\n",
       "4      2\n",
       "6      1\n",
       "Name: province, dtype: int64"
      ]
     },
     "execution_count": 16,
     "metadata": {},
     "output_type": "execute_result"
    }
   ],
   "source": [
    "df_tax_abn['province'].value_counts()"
   ]
  },
  {
   "cell_type": "code",
   "execution_count": null,
   "metadata": {},
   "outputs": [],
   "source": [
    "df_tax_abn['represent'] = df_tax_abn['tax_type'] + df_tax_abn['tax_state'] * 10 + "
   ]
  },
  {
   "cell_type": "markdown",
   "metadata": {},
   "source": [
    "## dummy"
   ]
  },
  {
   "cell_type": "code",
   "execution_count": 36,
   "metadata": {},
   "outputs": [
    {
     "data": {
      "text/html": [
       "<div>\n",
       "<style scoped>\n",
       "    .dataframe tbody tr th:only-of-type {\n",
       "        vertical-align: middle;\n",
       "    }\n",
       "\n",
       "    .dataframe tbody tr th {\n",
       "        vertical-align: top;\n",
       "    }\n",
       "\n",
       "    .dataframe thead th {\n",
       "        text-align: right;\n",
       "    }\n",
       "</style>\n",
       "<table border=\"1\" class=\"dataframe\">\n",
       "  <thead>\n",
       "    <tr style=\"text-align: right;\">\n",
       "      <th></th>\n",
       "      <th>tax_type_0</th>\n",
       "      <th>tax_type_1</th>\n",
       "      <th>tax_type_2</th>\n",
       "      <th>tax_type_3</th>\n",
       "      <th>tax_type_4</th>\n",
       "      <th>tax_state_0</th>\n",
       "      <th>tax_state_1</th>\n",
       "      <th>tax_state_2</th>\n",
       "      <th>tax_state_3</th>\n",
       "      <th>ttype_1</th>\n",
       "      <th>...</th>\n",
       "      <th>province_0</th>\n",
       "      <th>province_1</th>\n",
       "      <th>province_2</th>\n",
       "      <th>province_3</th>\n",
       "      <th>province_4</th>\n",
       "      <th>province_5</th>\n",
       "      <th>province_6</th>\n",
       "      <th>province_7</th>\n",
       "      <th>province_8</th>\n",
       "      <th>province_9</th>\n",
       "    </tr>\n",
       "  </thead>\n",
       "  <tbody>\n",
       "    <tr>\n",
       "      <th>0</th>\n",
       "      <td>0</td>\n",
       "      <td>1</td>\n",
       "      <td>0</td>\n",
       "      <td>0</td>\n",
       "      <td>0</td>\n",
       "      <td>1</td>\n",
       "      <td>0</td>\n",
       "      <td>0</td>\n",
       "      <td>0</td>\n",
       "      <td>0</td>\n",
       "      <td>...</td>\n",
       "      <td>0</td>\n",
       "      <td>1</td>\n",
       "      <td>0</td>\n",
       "      <td>0</td>\n",
       "      <td>0</td>\n",
       "      <td>0</td>\n",
       "      <td>0</td>\n",
       "      <td>0</td>\n",
       "      <td>0</td>\n",
       "      <td>0</td>\n",
       "    </tr>\n",
       "    <tr>\n",
       "      <th>1</th>\n",
       "      <td>0</td>\n",
       "      <td>1</td>\n",
       "      <td>0</td>\n",
       "      <td>0</td>\n",
       "      <td>0</td>\n",
       "      <td>1</td>\n",
       "      <td>0</td>\n",
       "      <td>0</td>\n",
       "      <td>0</td>\n",
       "      <td>0</td>\n",
       "      <td>...</td>\n",
       "      <td>0</td>\n",
       "      <td>1</td>\n",
       "      <td>0</td>\n",
       "      <td>0</td>\n",
       "      <td>0</td>\n",
       "      <td>0</td>\n",
       "      <td>0</td>\n",
       "      <td>0</td>\n",
       "      <td>0</td>\n",
       "      <td>0</td>\n",
       "    </tr>\n",
       "  </tbody>\n",
       "</table>\n",
       "<p>2 rows × 21 columns</p>\n",
       "</div>"
      ],
      "text/plain": [
       "   tax_type_0  tax_type_1  tax_type_2  tax_type_3  tax_type_4  tax_state_0  \\\n",
       "0           0           1           0           0           0            1   \n",
       "1           0           1           0           0           0            1   \n",
       "\n",
       "   tax_state_1  tax_state_2  tax_state_3  ttype_1  ...  province_0  \\\n",
       "0            0            0            0        0  ...           0   \n",
       "1            0            0            0        0  ...           0   \n",
       "\n",
       "   province_1  province_2  province_3  province_4  province_5  province_6  \\\n",
       "0           1           0           0           0           0           0   \n",
       "1           1           0           0           0           0           0   \n",
       "\n",
       "   province_7  province_8  province_9  \n",
       "0           0           0           0  \n",
       "1           0           0           0  \n",
       "\n",
       "[2 rows x 21 columns]"
      ]
     },
     "execution_count": 36,
     "metadata": {},
     "output_type": "execute_result"
    }
   ],
   "source": [
    "# change data type\n",
    "to_objects = ['tax_type','tax_state','ttype','province']\n",
    "\n",
    "for i in to_objects:\n",
    "    df_tax_abn[i] = df_tax_abn[i].astype('category', copy=False)\n",
    "    \n",
    "# only dummy seletive categorical variable\n",
    "tax_abn_dum = pd.get_dummies(df_tax_abn[['tax_type','tax_state','ttype','province']])\n",
    "tax_abn_dum.head(2)"
   ]
  },
  {
   "cell_type": "code",
   "execution_count": 37,
   "metadata": {},
   "outputs": [
    {
     "data": {
      "text/html": [
       "<div>\n",
       "<style scoped>\n",
       "    .dataframe tbody tr th:only-of-type {\n",
       "        vertical-align: middle;\n",
       "    }\n",
       "\n",
       "    .dataframe tbody tr th {\n",
       "        vertical-align: top;\n",
       "    }\n",
       "\n",
       "    .dataframe thead th {\n",
       "        text-align: right;\n",
       "    }\n",
       "</style>\n",
       "<table border=\"1\" class=\"dataframe\">\n",
       "  <thead>\n",
       "    <tr style=\"text-align: right;\">\n",
       "      <th></th>\n",
       "      <th>entid</th>\n",
       "      <th>tax_type_0</th>\n",
       "      <th>tax_type_1</th>\n",
       "      <th>tax_type_2</th>\n",
       "      <th>tax_type_3</th>\n",
       "      <th>tax_type_4</th>\n",
       "      <th>tax_state_0</th>\n",
       "      <th>tax_state_1</th>\n",
       "      <th>tax_state_2</th>\n",
       "      <th>tax_state_3</th>\n",
       "      <th>...</th>\n",
       "      <th>province_0</th>\n",
       "      <th>province_1</th>\n",
       "      <th>province_2</th>\n",
       "      <th>province_3</th>\n",
       "      <th>province_4</th>\n",
       "      <th>province_5</th>\n",
       "      <th>province_6</th>\n",
       "      <th>province_7</th>\n",
       "      <th>province_8</th>\n",
       "      <th>province_9</th>\n",
       "    </tr>\n",
       "  </thead>\n",
       "  <tbody>\n",
       "    <tr>\n",
       "      <th>0</th>\n",
       "      <td>722691858</td>\n",
       "      <td>0</td>\n",
       "      <td>1</td>\n",
       "      <td>0</td>\n",
       "      <td>0</td>\n",
       "      <td>0</td>\n",
       "      <td>1</td>\n",
       "      <td>0</td>\n",
       "      <td>0</td>\n",
       "      <td>0</td>\n",
       "      <td>...</td>\n",
       "      <td>0</td>\n",
       "      <td>1</td>\n",
       "      <td>0</td>\n",
       "      <td>0</td>\n",
       "      <td>0</td>\n",
       "      <td>0</td>\n",
       "      <td>0</td>\n",
       "      <td>0</td>\n",
       "      <td>0</td>\n",
       "      <td>0</td>\n",
       "    </tr>\n",
       "    <tr>\n",
       "      <th>1</th>\n",
       "      <td>705310922</td>\n",
       "      <td>0</td>\n",
       "      <td>1</td>\n",
       "      <td>0</td>\n",
       "      <td>0</td>\n",
       "      <td>0</td>\n",
       "      <td>1</td>\n",
       "      <td>0</td>\n",
       "      <td>0</td>\n",
       "      <td>0</td>\n",
       "      <td>...</td>\n",
       "      <td>0</td>\n",
       "      <td>1</td>\n",
       "      <td>0</td>\n",
       "      <td>0</td>\n",
       "      <td>0</td>\n",
       "      <td>0</td>\n",
       "      <td>0</td>\n",
       "      <td>0</td>\n",
       "      <td>0</td>\n",
       "      <td>0</td>\n",
       "    </tr>\n",
       "  </tbody>\n",
       "</table>\n",
       "<p>2 rows × 22 columns</p>\n",
       "</div>"
      ],
      "text/plain": [
       "       entid  tax_type_0  tax_type_1  tax_type_2  tax_type_3  tax_type_4  \\\n",
       "0  722691858           0           1           0           0           0   \n",
       "1  705310922           0           1           0           0           0   \n",
       "\n",
       "   tax_state_0  tax_state_1  tax_state_2  tax_state_3  ...  province_0  \\\n",
       "0            1            0            0            0  ...           0   \n",
       "1            1            0            0            0  ...           0   \n",
       "\n",
       "   province_1  province_2  province_3  province_4  province_5  province_6  \\\n",
       "0           1           0           0           0           0           0   \n",
       "1           1           0           0           0           0           0   \n",
       "\n",
       "   province_7  province_8  province_9  \n",
       "0           0           0           0  \n",
       "1           0           0           0  \n",
       "\n",
       "[2 rows x 22 columns]"
      ]
     },
     "execution_count": 37,
     "metadata": {},
     "output_type": "execute_result"
    }
   ],
   "source": [
    "df_tax_abn_dum = pd.concat([df_tax_abn,tax_abn_dum], axis=1)\n",
    "for i in ['tax_type','tax_state','ttype','province']:\n",
    "    del df_tax_abn_dum[i]\n",
    "    \n",
    "df_tax_abn_dum.head(2)"
   ]
  },
  {
   "cell_type": "markdown",
   "metadata": {},
   "source": [
    "## create 'count of record'"
   ]
  },
  {
   "cell_type": "code",
   "execution_count": 38,
   "metadata": {},
   "outputs": [
    {
     "data": {
      "text/html": [
       "<div>\n",
       "<style scoped>\n",
       "    .dataframe tbody tr th:only-of-type {\n",
       "        vertical-align: middle;\n",
       "    }\n",
       "\n",
       "    .dataframe tbody tr th {\n",
       "        vertical-align: top;\n",
       "    }\n",
       "\n",
       "    .dataframe thead th {\n",
       "        text-align: right;\n",
       "    }\n",
       "</style>\n",
       "<table border=\"1\" class=\"dataframe\">\n",
       "  <thead>\n",
       "    <tr style=\"text-align: right;\">\n",
       "      <th></th>\n",
       "      <th>entid</th>\n",
       "      <th>tax_type_0</th>\n",
       "      <th>tax_type_1</th>\n",
       "      <th>tax_type_2</th>\n",
       "      <th>tax_type_3</th>\n",
       "      <th>tax_type_4</th>\n",
       "      <th>tax_state_0</th>\n",
       "      <th>tax_state_1</th>\n",
       "      <th>tax_state_2</th>\n",
       "      <th>tax_state_3</th>\n",
       "      <th>...</th>\n",
       "      <th>province_1</th>\n",
       "      <th>province_2</th>\n",
       "      <th>province_3</th>\n",
       "      <th>province_4</th>\n",
       "      <th>province_5</th>\n",
       "      <th>province_6</th>\n",
       "      <th>province_7</th>\n",
       "      <th>province_8</th>\n",
       "      <th>province_9</th>\n",
       "      <th>count</th>\n",
       "    </tr>\n",
       "  </thead>\n",
       "  <tbody>\n",
       "    <tr>\n",
       "      <th>0</th>\n",
       "      <td>722691858</td>\n",
       "      <td>0</td>\n",
       "      <td>1</td>\n",
       "      <td>0</td>\n",
       "      <td>0</td>\n",
       "      <td>0</td>\n",
       "      <td>1</td>\n",
       "      <td>0</td>\n",
       "      <td>0</td>\n",
       "      <td>0</td>\n",
       "      <td>...</td>\n",
       "      <td>1</td>\n",
       "      <td>0</td>\n",
       "      <td>0</td>\n",
       "      <td>0</td>\n",
       "      <td>0</td>\n",
       "      <td>0</td>\n",
       "      <td>0</td>\n",
       "      <td>0</td>\n",
       "      <td>0</td>\n",
       "      <td>1</td>\n",
       "    </tr>\n",
       "    <tr>\n",
       "      <th>1</th>\n",
       "      <td>705310922</td>\n",
       "      <td>0</td>\n",
       "      <td>1</td>\n",
       "      <td>0</td>\n",
       "      <td>0</td>\n",
       "      <td>0</td>\n",
       "      <td>1</td>\n",
       "      <td>0</td>\n",
       "      <td>0</td>\n",
       "      <td>0</td>\n",
       "      <td>...</td>\n",
       "      <td>1</td>\n",
       "      <td>0</td>\n",
       "      <td>0</td>\n",
       "      <td>0</td>\n",
       "      <td>0</td>\n",
       "      <td>0</td>\n",
       "      <td>0</td>\n",
       "      <td>0</td>\n",
       "      <td>0</td>\n",
       "      <td>1</td>\n",
       "    </tr>\n",
       "  </tbody>\n",
       "</table>\n",
       "<p>2 rows × 23 columns</p>\n",
       "</div>"
      ],
      "text/plain": [
       "       entid  tax_type_0  tax_type_1  tax_type_2  tax_type_3  tax_type_4  \\\n",
       "0  722691858           0           1           0           0           0   \n",
       "1  705310922           0           1           0           0           0   \n",
       "\n",
       "   tax_state_0  tax_state_1  tax_state_2  tax_state_3  ...  province_1  \\\n",
       "0            1            0            0            0  ...           1   \n",
       "1            1            0            0            0  ...           1   \n",
       "\n",
       "   province_2  province_3  province_4  province_5  province_6  province_7  \\\n",
       "0           0           0           0           0           0           0   \n",
       "1           0           0           0           0           0           0   \n",
       "\n",
       "   province_8  province_9  count  \n",
       "0           0           0      1  \n",
       "1           0           0      1  \n",
       "\n",
       "[2 rows x 23 columns]"
      ]
     },
     "execution_count": 38,
     "metadata": {},
     "output_type": "execute_result"
    }
   ],
   "source": [
    "df_tax_abn_dum['count'] = 1\n",
    "df_tax_abn_dum.head(2)"
   ]
  },
  {
   "cell_type": "code",
   "execution_count": 40,
   "metadata": {},
   "outputs": [
    {
     "data": {
      "text/plain": [
       "284"
      ]
     },
     "execution_count": 40,
     "metadata": {},
     "output_type": "execute_result"
    }
   ],
   "source": [
    "df_tax_abn_dum['entid'].nunique()"
   ]
  },
  {
   "cell_type": "code",
   "execution_count": 46,
   "metadata": {},
   "outputs": [
    {
     "data": {
      "text/html": [
       "<div>\n",
       "<style scoped>\n",
       "    .dataframe tbody tr th:only-of-type {\n",
       "        vertical-align: middle;\n",
       "    }\n",
       "\n",
       "    .dataframe tbody tr th {\n",
       "        vertical-align: top;\n",
       "    }\n",
       "\n",
       "    .dataframe thead th {\n",
       "        text-align: right;\n",
       "    }\n",
       "</style>\n",
       "<table border=\"1\" class=\"dataframe\">\n",
       "  <thead>\n",
       "    <tr style=\"text-align: right;\">\n",
       "      <th></th>\n",
       "      <th>tax_type_0</th>\n",
       "      <th>tax_type_1</th>\n",
       "      <th>tax_type_2</th>\n",
       "      <th>tax_type_3</th>\n",
       "      <th>tax_type_4</th>\n",
       "      <th>tax_state_0</th>\n",
       "      <th>tax_state_1</th>\n",
       "      <th>tax_state_2</th>\n",
       "      <th>tax_state_3</th>\n",
       "      <th>ttype_1</th>\n",
       "      <th>...</th>\n",
       "      <th>province_1</th>\n",
       "      <th>province_2</th>\n",
       "      <th>province_3</th>\n",
       "      <th>province_4</th>\n",
       "      <th>province_5</th>\n",
       "      <th>province_6</th>\n",
       "      <th>province_7</th>\n",
       "      <th>province_8</th>\n",
       "      <th>province_9</th>\n",
       "      <th>count</th>\n",
       "    </tr>\n",
       "    <tr>\n",
       "      <th>entid</th>\n",
       "      <th></th>\n",
       "      <th></th>\n",
       "      <th></th>\n",
       "      <th></th>\n",
       "      <th></th>\n",
       "      <th></th>\n",
       "      <th></th>\n",
       "      <th></th>\n",
       "      <th></th>\n",
       "      <th></th>\n",
       "      <th></th>\n",
       "      <th></th>\n",
       "      <th></th>\n",
       "      <th></th>\n",
       "      <th></th>\n",
       "      <th></th>\n",
       "      <th></th>\n",
       "      <th></th>\n",
       "      <th></th>\n",
       "      <th></th>\n",
       "      <th></th>\n",
       "    </tr>\n",
       "  </thead>\n",
       "  <tbody>\n",
       "    <tr>\n",
       "      <th>5503066</th>\n",
       "      <td>1</td>\n",
       "      <td>0</td>\n",
       "      <td>0</td>\n",
       "      <td>0</td>\n",
       "      <td>0</td>\n",
       "      <td>0</td>\n",
       "      <td>0</td>\n",
       "      <td>0</td>\n",
       "      <td>1</td>\n",
       "      <td>1</td>\n",
       "      <td>...</td>\n",
       "      <td>0</td>\n",
       "      <td>1</td>\n",
       "      <td>0</td>\n",
       "      <td>0</td>\n",
       "      <td>0</td>\n",
       "      <td>0</td>\n",
       "      <td>0</td>\n",
       "      <td>0</td>\n",
       "      <td>0</td>\n",
       "      <td>1</td>\n",
       "    </tr>\n",
       "    <tr>\n",
       "      <th>21013823</th>\n",
       "      <td>0</td>\n",
       "      <td>1</td>\n",
       "      <td>0</td>\n",
       "      <td>0</td>\n",
       "      <td>0</td>\n",
       "      <td>1</td>\n",
       "      <td>0</td>\n",
       "      <td>0</td>\n",
       "      <td>0</td>\n",
       "      <td>1</td>\n",
       "      <td>...</td>\n",
       "      <td>0</td>\n",
       "      <td>1</td>\n",
       "      <td>0</td>\n",
       "      <td>0</td>\n",
       "      <td>0</td>\n",
       "      <td>0</td>\n",
       "      <td>0</td>\n",
       "      <td>0</td>\n",
       "      <td>0</td>\n",
       "      <td>1</td>\n",
       "    </tr>\n",
       "    <tr>\n",
       "      <th>1227739246</th>\n",
       "      <td>0</td>\n",
       "      <td>0</td>\n",
       "      <td>0</td>\n",
       "      <td>0</td>\n",
       "      <td>1</td>\n",
       "      <td>1</td>\n",
       "      <td>0</td>\n",
       "      <td>0</td>\n",
       "      <td>0</td>\n",
       "      <td>1</td>\n",
       "      <td>...</td>\n",
       "      <td>0</td>\n",
       "      <td>0</td>\n",
       "      <td>1</td>\n",
       "      <td>0</td>\n",
       "      <td>0</td>\n",
       "      <td>0</td>\n",
       "      <td>0</td>\n",
       "      <td>0</td>\n",
       "      <td>0</td>\n",
       "      <td>1</td>\n",
       "    </tr>\n",
       "    <tr>\n",
       "      <th>1234077177</th>\n",
       "      <td>0</td>\n",
       "      <td>0</td>\n",
       "      <td>0</td>\n",
       "      <td>0</td>\n",
       "      <td>1</td>\n",
       "      <td>0</td>\n",
       "      <td>0</td>\n",
       "      <td>0</td>\n",
       "      <td>1</td>\n",
       "      <td>0</td>\n",
       "      <td>...</td>\n",
       "      <td>0</td>\n",
       "      <td>0</td>\n",
       "      <td>0</td>\n",
       "      <td>0</td>\n",
       "      <td>1</td>\n",
       "      <td>0</td>\n",
       "      <td>0</td>\n",
       "      <td>0</td>\n",
       "      <td>0</td>\n",
       "      <td>1</td>\n",
       "    </tr>\n",
       "  </tbody>\n",
       "</table>\n",
       "<p>4 rows × 22 columns</p>\n",
       "</div>"
      ],
      "text/plain": [
       "            tax_type_0  tax_type_1  tax_type_2  tax_type_3  tax_type_4  \\\n",
       "entid                                                                    \n",
       "5503066              1           0           0           0           0   \n",
       "21013823             0           1           0           0           0   \n",
       "1227739246           0           0           0           0           1   \n",
       "1234077177           0           0           0           0           1   \n",
       "\n",
       "            tax_state_0  tax_state_1  tax_state_2  tax_state_3  ttype_1  ...  \\\n",
       "entid                                                                    ...   \n",
       "5503066               0            0            0            1        1  ...   \n",
       "21013823              1            0            0            0        1  ...   \n",
       "1227739246            1            0            0            0        1  ...   \n",
       "1234077177            0            0            0            1        0  ...   \n",
       "\n",
       "            province_1  province_2  province_3  province_4  province_5  \\\n",
       "entid                                                                    \n",
       "5503066              0           1           0           0           0   \n",
       "21013823             0           1           0           0           0   \n",
       "1227739246           0           0           1           0           0   \n",
       "1234077177           0           0           0           0           1   \n",
       "\n",
       "            province_6  province_7  province_8  province_9  count  \n",
       "entid                                                              \n",
       "5503066              0           0           0           0      1  \n",
       "21013823             0           0           0           0      1  \n",
       "1227739246           0           0           0           0      1  \n",
       "1234077177           0           0           0           0      1  \n",
       "\n",
       "[4 rows x 22 columns]"
      ]
     },
     "execution_count": 46,
     "metadata": {},
     "output_type": "execute_result"
    }
   ],
   "source": [
    "df_tax_abn_dum['entid'] = df_tax_abn['entid'].astype('category', copy=False)\n",
    "df_tax_abn_g = df_tax_abn_dum.groupby('entid').sum()\n",
    "df_tax_abn_g.head(2).append(df_tax_abn_g.tail(2))"
   ]
  },
  {
   "cell_type": "code",
   "execution_count": 51,
   "metadata": {},
   "outputs": [
    {
     "data": {
      "text/plain": [
       "1     253\n",
       "2      23\n",
       "3       3\n",
       "4       2\n",
       "26      1\n",
       "9       1\n",
       "8       1\n",
       "Name: count, dtype: int64"
      ]
     },
     "execution_count": 51,
     "metadata": {},
     "output_type": "execute_result"
    }
   ],
   "source": [
    "df_tax_abn_g['count'].value_counts()"
   ]
  },
  {
   "cell_type": "code",
   "execution_count": 57,
   "metadata": {
    "scrolled": true
   },
   "outputs": [
    {
     "data": {
      "text/plain": [
       "tax_type_0     0\n",
       "tax_type_1     0\n",
       "tax_type_2     1\n",
       "tax_type_3     0\n",
       "tax_type_4     1\n",
       "tax_state_0    1\n",
       "tax_state_1    1\n",
       "tax_state_2    0\n",
       "tax_state_3    0\n",
       "ttype_1        1\n",
       "ttype_2        1\n",
       "province_0     1\n",
       "province_1     0\n",
       "province_2     0\n",
       "province_3     0\n",
       "province_4     0\n",
       "province_5     1\n",
       "province_6     0\n",
       "province_7     0\n",
       "province_8     0\n",
       "province_9     0\n",
       "count          2\n",
       "Name: 212403366, dtype: int64"
      ]
     },
     "execution_count": 57,
     "metadata": {},
     "output_type": "execute_result"
    }
   ],
   "source": [
    "df_tax_abn_g.loc[212403366]"
   ]
  },
  {
   "cell_type": "code",
   "execution_count": 58,
   "metadata": {},
   "outputs": [],
   "source": [
    "df_tax_abn_g.to_csv(outpath+'tax_abnormal_processed.csv')"
   ]
  },
  {
   "cell_type": "code",
   "execution_count": null,
   "metadata": {},
   "outputs": [],
   "source": []
  }
 ],
 "metadata": {
  "kernelspec": {
   "display_name": "Python 3",
   "language": "python",
   "name": "python3"
  },
  "language_info": {
   "codemirror_mode": {
    "name": "ipython",
    "version": 3
   },
   "file_extension": ".py",
   "mimetype": "text/x-python",
   "name": "python",
   "nbconvert_exporter": "python",
   "pygments_lexer": "ipython3",
   "version": "3.8.8"
  },
  "toc": {
   "base_numbering": 1,
   "nav_menu": {},
   "number_sections": true,
   "sideBar": true,
   "skip_h1_title": false,
   "title_cell": "Table of Contents",
   "title_sidebar": "Contents",
   "toc_cell": false,
   "toc_position": {
    "height": "calc(100% - 180px)",
    "left": "10px",
    "top": "150px",
    "width": "256px"
   },
   "toc_section_display": true,
   "toc_window_display": true
  }
 },
 "nbformat": 4,
 "nbformat_minor": 4
}
