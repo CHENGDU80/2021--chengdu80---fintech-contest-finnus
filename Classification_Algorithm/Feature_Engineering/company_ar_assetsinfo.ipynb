{
 "cells": [
  {
   "cell_type": "code",
   "execution_count": 1,
   "metadata": {},
   "outputs": [],
   "source": [
    "import pandas as pd"
   ]
  },
  {
   "cell_type": "code",
   "execution_count": 2,
   "metadata": {},
   "outputs": [],
   "source": [
    "path = \"../Data/Online_Data/trainning_data/corporate_attributes/\"\n",
    "outpath = \"../Processed_Data/\""
   ]
  },
  {
   "cell_type": "code",
   "execution_count": 3,
   "metadata": {},
   "outputs": [
    {
     "name": "stderr",
     "output_type": "stream",
     "text": [
      "<ipython-input-3-3293778e2e8a>:1: FutureWarning: Your version of xlrd is 1.2.0. In xlrd >= 2.0, only the xls format is supported. As a result, the openpyxl engine will be used if it is installed and the engine argument is not specified. Install openpyxl instead.\n",
      "  company_ar_assetsinfo = pd.read_excel(path+'company_ar_assetinfo.xlsx')\n"
     ]
    },
    {
     "data": {
      "text/html": [
       "<div>\n",
       "<style scoped>\n",
       "    .dataframe tbody tr th:only-of-type {\n",
       "        vertical-align: middle;\n",
       "    }\n",
       "\n",
       "    .dataframe tbody tr th {\n",
       "        vertical-align: top;\n",
       "    }\n",
       "\n",
       "    .dataframe thead th {\n",
       "        text-align: right;\n",
       "    }\n",
       "</style>\n",
       "<table border=\"1\" class=\"dataframe\">\n",
       "  <thead>\n",
       "    <tr style=\"text-align: right;\">\n",
       "      <th></th>\n",
       "      <th>entid</th>\n",
       "      <th>ANCHEYEAR</th>\n",
       "      <th>ispublic</th>\n",
       "      <th>ASSGRO</th>\n",
       "      <th>LIAGRO</th>\n",
       "      <th>VENDINC</th>\n",
       "      <th>MAIBUSINC</th>\n",
       "      <th>PROGRO</th>\n",
       "      <th>NETINC</th>\n",
       "      <th>RATGRO</th>\n",
       "      <th>TOTEQU</th>\n",
       "    </tr>\n",
       "  </thead>\n",
       "  <tbody>\n",
       "    <tr>\n",
       "      <th>0</th>\n",
       "      <td>932526009</td>\n",
       "      <td>2013</td>\n",
       "      <td>1</td>\n",
       "      <td>100.488892</td>\n",
       "      <td>-1.479566</td>\n",
       "      <td>0.283220</td>\n",
       "      <td>0.672107</td>\n",
       "      <td>-0.436201</td>\n",
       "      <td>0.976037</td>\n",
       "      <td>-0.080510</td>\n",
       "      <td>99.813856</td>\n",
       "    </tr>\n",
       "    <tr>\n",
       "      <th>1</th>\n",
       "      <td>47765794</td>\n",
       "      <td>2013</td>\n",
       "      <td>1</td>\n",
       "      <td>1985.294967</td>\n",
       "      <td>1986.898739</td>\n",
       "      <td>6.353740</td>\n",
       "      <td>8.011072</td>\n",
       "      <td>-0.265597</td>\n",
       "      <td>-1.095177</td>\n",
       "      <td>1.001812</td>\n",
       "      <td>0.791100</td>\n",
       "    </tr>\n",
       "    <tr>\n",
       "      <th>2</th>\n",
       "      <td>100233421</td>\n",
       "      <td>2014</td>\n",
       "      <td>1</td>\n",
       "      <td>-0.155075</td>\n",
       "      <td>-0.362538</td>\n",
       "      <td>-0.473252</td>\n",
       "      <td>-1.560821</td>\n",
       "      <td>-0.201790</td>\n",
       "      <td>-1.522116</td>\n",
       "      <td>1.182757</td>\n",
       "      <td>-0.811408</td>\n",
       "    </tr>\n",
       "    <tr>\n",
       "      <th>3</th>\n",
       "      <td>932526009</td>\n",
       "      <td>2014</td>\n",
       "      <td>1</td>\n",
       "      <td>99.997127</td>\n",
       "      <td>-0.438262</td>\n",
       "      <td>1.604003</td>\n",
       "      <td>-0.047880</td>\n",
       "      <td>2.271436</td>\n",
       "      <td>0.728556</td>\n",
       "      <td>-0.554784</td>\n",
       "      <td>99.437596</td>\n",
       "    </tr>\n",
       "    <tr>\n",
       "      <th>4</th>\n",
       "      <td>307832564</td>\n",
       "      <td>2014</td>\n",
       "      <td>1</td>\n",
       "      <td>0.096310</td>\n",
       "      <td>0.620053</td>\n",
       "      <td>-0.983819</td>\n",
       "      <td>0.628480</td>\n",
       "      <td>0.722161</td>\n",
       "      <td>0.233538</td>\n",
       "      <td>0.564325</td>\n",
       "      <td>0.866446</td>\n",
       "    </tr>\n",
       "  </tbody>\n",
       "</table>\n",
       "</div>"
      ],
      "text/plain": [
       "       entid  ANCHEYEAR  ispublic       ASSGRO       LIAGRO   VENDINC  \\\n",
       "0  932526009       2013         1   100.488892    -1.479566  0.283220   \n",
       "1   47765794       2013         1  1985.294967  1986.898739  6.353740   \n",
       "2  100233421       2014         1    -0.155075    -0.362538 -0.473252   \n",
       "3  932526009       2014         1    99.997127    -0.438262  1.604003   \n",
       "4  307832564       2014         1     0.096310     0.620053 -0.983819   \n",
       "\n",
       "   MAIBUSINC    PROGRO    NETINC    RATGRO     TOTEQU  \n",
       "0   0.672107 -0.436201  0.976037 -0.080510  99.813856  \n",
       "1   8.011072 -0.265597 -1.095177  1.001812   0.791100  \n",
       "2  -1.560821 -0.201790 -1.522116  1.182757  -0.811408  \n",
       "3  -0.047880  2.271436  0.728556 -0.554784  99.437596  \n",
       "4   0.628480  0.722161  0.233538  0.564325   0.866446  "
      ]
     },
     "execution_count": 3,
     "metadata": {},
     "output_type": "execute_result"
    }
   ],
   "source": [
    "company_ar_assetsinfo = pd.read_csv(path+'company_ar_assetinfo.csv')\n",
    "company_ar_assetsinfo.head()"
   ]
  },
  {
   "cell_type": "code",
   "execution_count": 4,
   "metadata": {},
   "outputs": [],
   "source": [
    "# only keep the latest data\n",
    "# company_ar_assetsinfo_latest = company_ar_assetsinfo.query('ANCHEYEAR in [2016, 2017, 2018, 2019]')\n",
    "company_ar_assetsinfo_latest = company_ar_assetsinfo.sort_values(by = 'ANCHEYEAR')"
   ]
  },
  {
   "cell_type": "code",
   "execution_count": 5,
   "metadata": {},
   "outputs": [
    {
     "data": {
      "text/plain": [
       "(4884, 11)"
      ]
     },
     "execution_count": 5,
     "metadata": {},
     "output_type": "execute_result"
    }
   ],
   "source": [
    "company_ar_assetsinfo_latest.shape"
   ]
  },
  {
   "cell_type": "code",
   "execution_count": 6,
   "metadata": {},
   "outputs": [
    {
     "data": {
      "text/plain": [
       "Index(['entid', 'ANCHEYEAR', 'ispublic', 'ASSGRO', 'LIAGRO', 'VENDINC',\n",
       "       'MAIBUSINC', 'PROGRO', 'NETINC', 'RATGRO', 'TOTEQU'],\n",
       "      dtype='object')"
      ]
     },
     "execution_count": 6,
     "metadata": {},
     "output_type": "execute_result"
    }
   ],
   "source": [
    "company_ar_assetsinfo_latest.columns"
   ]
  },
  {
   "cell_type": "code",
   "execution_count": 7,
   "metadata": {},
   "outputs": [],
   "source": [
    "numerical_columns = ['ASSGRO', 'LIAGRO', 'VENDINC',\n",
    "       'MAIBUSINC', 'PROGRO', 'NETINC', 'RATGRO', 'TOTEQU']"
   ]
  },
  {
   "cell_type": "code",
   "execution_count": 8,
   "metadata": {},
   "outputs": [],
   "source": [
    "def get_numerical_df(df, columns):\n",
    "    keep_columns = columns + ['entid']\n",
    "    df_numerical = df[keep_columns].groupby(\"entid\")\n",
    "    df_numerical = df_numerical.mean()\n",
    "    df_numerical = df_numerical.reset_index()\n",
    "    return df_numerical"
   ]
  },
  {
   "cell_type": "code",
   "execution_count": 9,
   "metadata": {},
   "outputs": [
    {
     "data": {
      "text/plain": [
       "(2318, 9)"
      ]
     },
     "execution_count": 9,
     "metadata": {},
     "output_type": "execute_result"
    }
   ],
   "source": [
    "df_numerical = get_numerical_df(company_ar_assetsinfo_latest, numerical_columns)\n",
    "df_numerical.shape"
   ]
  },
  {
   "cell_type": "code",
   "execution_count": 10,
   "metadata": {},
   "outputs": [
    {
     "data": {
      "text/html": [
       "<div>\n",
       "<style scoped>\n",
       "    .dataframe tbody tr th:only-of-type {\n",
       "        vertical-align: middle;\n",
       "    }\n",
       "\n",
       "    .dataframe tbody tr th {\n",
       "        vertical-align: top;\n",
       "    }\n",
       "\n",
       "    .dataframe thead th {\n",
       "        text-align: right;\n",
       "    }\n",
       "</style>\n",
       "<table border=\"1\" class=\"dataframe\">\n",
       "  <thead>\n",
       "    <tr style=\"text-align: right;\">\n",
       "      <th></th>\n",
       "      <th>entid</th>\n",
       "      <th>ASSGRO</th>\n",
       "      <th>LIAGRO</th>\n",
       "      <th>VENDINC</th>\n",
       "      <th>MAIBUSINC</th>\n",
       "      <th>PROGRO</th>\n",
       "      <th>NETINC</th>\n",
       "      <th>RATGRO</th>\n",
       "      <th>TOTEQU</th>\n",
       "    </tr>\n",
       "  </thead>\n",
       "  <tbody>\n",
       "    <tr>\n",
       "      <th>0</th>\n",
       "      <td>221197</td>\n",
       "      <td>NaN</td>\n",
       "      <td>NaN</td>\n",
       "      <td>NaN</td>\n",
       "      <td>NaN</td>\n",
       "      <td>NaN</td>\n",
       "      <td>NaN</td>\n",
       "      <td>0.389003</td>\n",
       "      <td>NaN</td>\n",
       "    </tr>\n",
       "    <tr>\n",
       "      <th>1</th>\n",
       "      <td>530656</td>\n",
       "      <td>572.628619</td>\n",
       "      <td>514.452836</td>\n",
       "      <td>180.805259</td>\n",
       "      <td>179.706849</td>\n",
       "      <td>-1.349599</td>\n",
       "      <td>-0.292298</td>\n",
       "      <td>10.467649</td>\n",
       "      <td>58.507187</td>\n",
       "    </tr>\n",
       "    <tr>\n",
       "      <th>2</th>\n",
       "      <td>951687</td>\n",
       "      <td>199.039445</td>\n",
       "      <td>-0.420831</td>\n",
       "      <td>-1.080154</td>\n",
       "      <td>0.096327</td>\n",
       "      <td>2.394148</td>\n",
       "      <td>-0.072355</td>\n",
       "      <td>0.326328</td>\n",
       "      <td>200.000452</td>\n",
       "    </tr>\n",
       "    <tr>\n",
       "      <th>3</th>\n",
       "      <td>1507679</td>\n",
       "      <td>2064.001746</td>\n",
       "      <td>2767.024702</td>\n",
       "      <td>3625.656199</td>\n",
       "      <td>3626.173157</td>\n",
       "      <td>-751.460106</td>\n",
       "      <td>-752.559701</td>\n",
       "      <td>-0.222469</td>\n",
       "      <td>-105.136521</td>\n",
       "    </tr>\n",
       "    <tr>\n",
       "      <th>4</th>\n",
       "      <td>2604506</td>\n",
       "      <td>NaN</td>\n",
       "      <td>NaN</td>\n",
       "      <td>-0.041023</td>\n",
       "      <td>NaN</td>\n",
       "      <td>NaN</td>\n",
       "      <td>-0.528690</td>\n",
       "      <td>0.003914</td>\n",
       "      <td>NaN</td>\n",
       "    </tr>\n",
       "  </tbody>\n",
       "</table>\n",
       "</div>"
      ],
      "text/plain": [
       "     entid       ASSGRO       LIAGRO      VENDINC    MAIBUSINC      PROGRO  \\\n",
       "0   221197          NaN          NaN          NaN          NaN         NaN   \n",
       "1   530656   572.628619   514.452836   180.805259   179.706849   -1.349599   \n",
       "2   951687   199.039445    -0.420831    -1.080154     0.096327    2.394148   \n",
       "3  1507679  2064.001746  2767.024702  3625.656199  3626.173157 -751.460106   \n",
       "4  2604506          NaN          NaN    -0.041023          NaN         NaN   \n",
       "\n",
       "       NETINC     RATGRO      TOTEQU  \n",
       "0         NaN   0.389003         NaN  \n",
       "1   -0.292298  10.467649   58.507187  \n",
       "2   -0.072355   0.326328  200.000452  \n",
       "3 -752.559701  -0.222469 -105.136521  \n",
       "4   -0.528690   0.003914         NaN  "
      ]
     },
     "execution_count": 10,
     "metadata": {},
     "output_type": "execute_result"
    }
   ],
   "source": [
    "df_numerical.head()"
   ]
  },
  {
   "cell_type": "code",
   "execution_count": 11,
   "metadata": {},
   "outputs": [],
   "source": [
    "categorical_columns = ['ispublic']"
   ]
  },
  {
   "cell_type": "code",
   "execution_count": 12,
   "metadata": {},
   "outputs": [],
   "source": [
    "def get_categorical_df(df, columns):\n",
    "    keep_columns = columns + ['entid']\n",
    "    df_categorical = df[keep_columns].drop_duplicates(subset = 'entid', keep = 'last')\n",
    "    df_categorical = pd.get_dummies(df_categorical, columns = categorical_columns, drop_first=True)\n",
    "    return df_categorical"
   ]
  },
  {
   "cell_type": "code",
   "execution_count": 13,
   "metadata": {},
   "outputs": [],
   "source": [
    "df_categorical = get_categorical_df(company_ar_assetsinfo_latest, categorical_columns)"
   ]
  },
  {
   "cell_type": "code",
   "execution_count": 14,
   "metadata": {},
   "outputs": [
    {
     "data": {
      "text/html": [
       "<div>\n",
       "<style scoped>\n",
       "    .dataframe tbody tr th:only-of-type {\n",
       "        vertical-align: middle;\n",
       "    }\n",
       "\n",
       "    .dataframe tbody tr th {\n",
       "        vertical-align: top;\n",
       "    }\n",
       "\n",
       "    .dataframe thead th {\n",
       "        text-align: right;\n",
       "    }\n",
       "</style>\n",
       "<table border=\"1\" class=\"dataframe\">\n",
       "  <thead>\n",
       "    <tr style=\"text-align: right;\">\n",
       "      <th></th>\n",
       "      <th>entid</th>\n",
       "    </tr>\n",
       "  </thead>\n",
       "  <tbody>\n",
       "    <tr>\n",
       "      <th>846</th>\n",
       "      <td>191390596</td>\n",
       "    </tr>\n",
       "    <tr>\n",
       "      <th>857</th>\n",
       "      <td>1077483239</td>\n",
       "    </tr>\n",
       "    <tr>\n",
       "      <th>863</th>\n",
       "      <td>583034378</td>\n",
       "    </tr>\n",
       "    <tr>\n",
       "      <th>873</th>\n",
       "      <td>981015861</td>\n",
       "    </tr>\n",
       "    <tr>\n",
       "      <th>802</th>\n",
       "      <td>640967317</td>\n",
       "    </tr>\n",
       "  </tbody>\n",
       "</table>\n",
       "</div>"
      ],
      "text/plain": [
       "          entid\n",
       "846   191390596\n",
       "857  1077483239\n",
       "863   583034378\n",
       "873   981015861\n",
       "802   640967317"
      ]
     },
     "execution_count": 14,
     "metadata": {},
     "output_type": "execute_result"
    }
   ],
   "source": [
    "df_categorical.head()"
   ]
  },
  {
   "cell_type": "code",
   "execution_count": 15,
   "metadata": {},
   "outputs": [
    {
     "data": {
      "text/plain": [
       "(2318, 1)"
      ]
     },
     "execution_count": 15,
     "metadata": {},
     "output_type": "execute_result"
    }
   ],
   "source": [
    "df_categorical.shape"
   ]
  },
  {
   "cell_type": "code",
   "execution_count": 16,
   "metadata": {},
   "outputs": [
    {
     "data": {
      "text/html": [
       "<div>\n",
       "<style scoped>\n",
       "    .dataframe tbody tr th:only-of-type {\n",
       "        vertical-align: middle;\n",
       "    }\n",
       "\n",
       "    .dataframe tbody tr th {\n",
       "        vertical-align: top;\n",
       "    }\n",
       "\n",
       "    .dataframe thead th {\n",
       "        text-align: right;\n",
       "    }\n",
       "</style>\n",
       "<table border=\"1\" class=\"dataframe\">\n",
       "  <thead>\n",
       "    <tr style=\"text-align: right;\">\n",
       "      <th></th>\n",
       "      <th>entid</th>\n",
       "      <th>ASSGRO</th>\n",
       "      <th>LIAGRO</th>\n",
       "      <th>VENDINC</th>\n",
       "      <th>MAIBUSINC</th>\n",
       "      <th>PROGRO</th>\n",
       "      <th>NETINC</th>\n",
       "      <th>RATGRO</th>\n",
       "      <th>TOTEQU</th>\n",
       "    </tr>\n",
       "  </thead>\n",
       "  <tbody>\n",
       "    <tr>\n",
       "      <th>0</th>\n",
       "      <td>221197</td>\n",
       "      <td>NaN</td>\n",
       "      <td>NaN</td>\n",
       "      <td>NaN</td>\n",
       "      <td>NaN</td>\n",
       "      <td>NaN</td>\n",
       "      <td>NaN</td>\n",
       "      <td>0.389003</td>\n",
       "      <td>NaN</td>\n",
       "    </tr>\n",
       "    <tr>\n",
       "      <th>1</th>\n",
       "      <td>530656</td>\n",
       "      <td>572.628619</td>\n",
       "      <td>514.452836</td>\n",
       "      <td>180.805259</td>\n",
       "      <td>179.706849</td>\n",
       "      <td>-1.349599</td>\n",
       "      <td>-0.292298</td>\n",
       "      <td>10.467649</td>\n",
       "      <td>58.507187</td>\n",
       "    </tr>\n",
       "    <tr>\n",
       "      <th>2</th>\n",
       "      <td>951687</td>\n",
       "      <td>199.039445</td>\n",
       "      <td>-0.420831</td>\n",
       "      <td>-1.080154</td>\n",
       "      <td>0.096327</td>\n",
       "      <td>2.394148</td>\n",
       "      <td>-0.072355</td>\n",
       "      <td>0.326328</td>\n",
       "      <td>200.000452</td>\n",
       "    </tr>\n",
       "    <tr>\n",
       "      <th>3</th>\n",
       "      <td>1507679</td>\n",
       "      <td>2064.001746</td>\n",
       "      <td>2767.024702</td>\n",
       "      <td>3625.656199</td>\n",
       "      <td>3626.173157</td>\n",
       "      <td>-751.460106</td>\n",
       "      <td>-752.559701</td>\n",
       "      <td>-0.222469</td>\n",
       "      <td>-105.136521</td>\n",
       "    </tr>\n",
       "    <tr>\n",
       "      <th>4</th>\n",
       "      <td>2604506</td>\n",
       "      <td>NaN</td>\n",
       "      <td>NaN</td>\n",
       "      <td>-0.041023</td>\n",
       "      <td>NaN</td>\n",
       "      <td>NaN</td>\n",
       "      <td>-0.528690</td>\n",
       "      <td>0.003914</td>\n",
       "      <td>NaN</td>\n",
       "    </tr>\n",
       "  </tbody>\n",
       "</table>\n",
       "</div>"
      ],
      "text/plain": [
       "     entid       ASSGRO       LIAGRO      VENDINC    MAIBUSINC      PROGRO  \\\n",
       "0   221197          NaN          NaN          NaN          NaN         NaN   \n",
       "1   530656   572.628619   514.452836   180.805259   179.706849   -1.349599   \n",
       "2   951687   199.039445    -0.420831    -1.080154     0.096327    2.394148   \n",
       "3  1507679  2064.001746  2767.024702  3625.656199  3626.173157 -751.460106   \n",
       "4  2604506          NaN          NaN    -0.041023          NaN         NaN   \n",
       "\n",
       "       NETINC     RATGRO      TOTEQU  \n",
       "0         NaN   0.389003         NaN  \n",
       "1   -0.292298  10.467649   58.507187  \n",
       "2   -0.072355   0.326328  200.000452  \n",
       "3 -752.559701  -0.222469 -105.136521  \n",
       "4   -0.528690   0.003914         NaN  "
      ]
     },
     "execution_count": 16,
     "metadata": {},
     "output_type": "execute_result"
    }
   ],
   "source": [
    "df_new = pd.merge(df_numerical, df_categorical, on = \"entid\")\n",
    "df_new.head()"
   ]
  },
  {
   "cell_type": "code",
   "execution_count": 17,
   "metadata": {},
   "outputs": [
    {
     "data": {
      "text/plain": [
       "(2318, 9)"
      ]
     },
     "execution_count": 17,
     "metadata": {},
     "output_type": "execute_result"
    }
   ],
   "source": [
    "df_new.shape"
   ]
  },
  {
   "cell_type": "code",
   "execution_count": 18,
   "metadata": {},
   "outputs": [],
   "source": [
    "de_columns = ['TOTEQU', 'ASSGRO', 'PROGRO', 'NETINC']"
   ]
  },
  {
   "cell_type": "code",
   "execution_count": 22,
   "metadata": {},
   "outputs": [
    {
     "data": {
      "text/plain": [
       "TOTEQU    271\n",
       "ASSGRO    225\n",
       "PROGRO    296\n",
       "NETINC    170\n",
       "dtype: int64"
      ]
     },
     "execution_count": 22,
     "metadata": {},
     "output_type": "execute_result"
    }
   ],
   "source": [
    "df_new[de_columns].isna().sum()"
   ]
  },
  {
   "cell_type": "code",
   "execution_count": 19,
   "metadata": {},
   "outputs": [],
   "source": [
    "# for column in de_columns:\n",
    "#     df_new[column] = df_new[column].replace(0, 0.01)"
   ]
  },
  {
   "cell_type": "code",
   "execution_count": 23,
   "metadata": {},
   "outputs": [],
   "source": [
    "df_new['D_E_Ratio'] = df_new['LIAGRO'] / df_new['TOTEQU']\n",
    "df_new['ROA'] = df_new['NETINC'] / df_new['ASSGRO']\n",
    "df_new['ROE'] = df_new['LIAGRO'] / df_new['TOTEQU']\n",
    "df_new['Debit_Ration'] = df_new['LIAGRO'] / df_new['ASSGRO']\n",
    "df_new['SH_Equity_Ratio'] = df_new['TOTEQU'] / df_new['ASSGRO']\n",
    "df_new['Debit_Ratio'] = df_new['LIAGRO'] / df_new['ASSGRO']\n",
    "df_new['Efficiency_Ratio'] = df_new['NETINC'] / df_new['PROGRO']\n",
    "df_new['Effective_Tax_Rate'] = df_new['RATGRO'] / df_new['NETINC']"
   ]
  },
  {
   "cell_type": "code",
   "execution_count": 25,
   "metadata": {},
   "outputs": [
    {
     "data": {
      "text/plain": [
       "295"
      ]
     },
     "execution_count": 25,
     "metadata": {},
     "output_type": "execute_result"
    }
   ],
   "source": [
    "df_new['D_E_Ratio'].isna().sum()"
   ]
  },
  {
   "cell_type": "code",
   "execution_count": 26,
   "metadata": {},
   "outputs": [],
   "source": [
    "df_new.to_csv(outpath+'company_ar_assetsinfo_processed.csv', index = 0)"
   ]
  },
  {
   "cell_type": "code",
   "execution_count": null,
   "metadata": {},
   "outputs": [],
   "source": []
  }
 ],
 "metadata": {
  "kernelspec": {
   "display_name": "Python 3",
   "language": "python",
   "name": "python3"
  },
  "language_info": {
   "codemirror_mode": {
    "name": "ipython",
    "version": 3
   },
   "file_extension": ".py",
   "mimetype": "text/x-python",
   "name": "python",
   "nbconvert_exporter": "python",
   "pygments_lexer": "ipython3",
   "version": "3.8.8"
  }
 },
 "nbformat": 4,
 "nbformat_minor": 4
}
