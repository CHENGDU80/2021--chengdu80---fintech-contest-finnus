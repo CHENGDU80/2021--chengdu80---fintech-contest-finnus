{
 "cells": [
  {
   "cell_type": "code",
   "execution_count": 1,
   "metadata": {},
   "outputs": [],
   "source": [
    "import pandas as pd"
   ]
  },
  {
   "cell_type": "code",
   "execution_count": 2,
   "metadata": {},
   "outputs": [],
   "source": [
    "path = \"../Data/Online_Data/trainning_data/corporate_attributes/\"\n",
    "outpath = \"../Processed_Data/\""
   ]
  },
  {
   "cell_type": "code",
   "execution_count": 3,
   "metadata": {},
   "outputs": [
    {
     "name": "stderr",
     "output_type": "stream",
     "text": [
      "<ipython-input-3-0ae36a172c65>:1: FutureWarning: Your version of xlrd is 1.2.0. In xlrd >= 2.0, only the xls format is supported. As a result, the openpyxl engine will be used if it is installed and the engine argument is not specified. Install openpyxl instead.\n",
      "  company_ar_socialfee = pd.read_excel(path+'company_ar_socialfee.xlsx')\n"
     ]
    },
    {
     "data": {
      "text/html": [
       "<div>\n",
       "<style scoped>\n",
       "    .dataframe tbody tr th:only-of-type {\n",
       "        vertical-align: middle;\n",
       "    }\n",
       "\n",
       "    .dataframe tbody tr th {\n",
       "        vertical-align: top;\n",
       "    }\n",
       "\n",
       "    .dataframe thead th {\n",
       "        text-align: right;\n",
       "    }\n",
       "</style>\n",
       "<table border=\"1\" class=\"dataframe\">\n",
       "  <thead>\n",
       "    <tr style=\"text-align: right;\">\n",
       "      <th></th>\n",
       "      <th>entid</th>\n",
       "      <th>ispublic</th>\n",
       "      <th>ANCHEYEAR</th>\n",
       "      <th>so1</th>\n",
       "      <th>so2</th>\n",
       "      <th>so3</th>\n",
       "      <th>so4</th>\n",
       "      <th>so5</th>\n",
       "      <th>totalWagesSo1</th>\n",
       "      <th>totalWagesSo2</th>\n",
       "      <th>...</th>\n",
       "      <th>REGCAPCUR</th>\n",
       "      <th>RECCAP</th>\n",
       "      <th>PARNUM</th>\n",
       "      <th>LIMPARNUM</th>\n",
       "      <th>PARFORM</th>\n",
       "      <th>EXENUM</th>\n",
       "      <th>brand_num</th>\n",
       "      <th>cancel_dum</th>\n",
       "      <th>certificate_num</th>\n",
       "      <th>tax_dum</th>\n",
       "    </tr>\n",
       "  </thead>\n",
       "  <tbody>\n",
       "    <tr>\n",
       "      <th>0</th>\n",
       "      <td>272347642</td>\n",
       "      <td>1.0</td>\n",
       "      <td>2016.0</td>\n",
       "      <td>-0.653784</td>\n",
       "      <td>-0.602713</td>\n",
       "      <td>-0.357935</td>\n",
       "      <td>1.391685</td>\n",
       "      <td>-0.049549</td>\n",
       "      <td>0.846178</td>\n",
       "      <td>-2.542993</td>\n",
       "      <td>...</td>\n",
       "      <td>NaN</td>\n",
       "      <td>NaN</td>\n",
       "      <td>NaN</td>\n",
       "      <td>NaN</td>\n",
       "      <td>NaN</td>\n",
       "      <td>NaN</td>\n",
       "      <td>NaN</td>\n",
       "      <td>NaN</td>\n",
       "      <td>NaN</td>\n",
       "      <td>NaN</td>\n",
       "    </tr>\n",
       "    <tr>\n",
       "      <th>1</th>\n",
       "      <td>432161556</td>\n",
       "      <td>1.0</td>\n",
       "      <td>2016.0</td>\n",
       "      <td>-0.883412</td>\n",
       "      <td>0.677451</td>\n",
       "      <td>0.152510</td>\n",
       "      <td>-1.034647</td>\n",
       "      <td>-1.617859</td>\n",
       "      <td>0.433976</td>\n",
       "      <td>-0.769230</td>\n",
       "      <td>...</td>\n",
       "      <td>NaN</td>\n",
       "      <td>NaN</td>\n",
       "      <td>NaN</td>\n",
       "      <td>NaN</td>\n",
       "      <td>NaN</td>\n",
       "      <td>NaN</td>\n",
       "      <td>NaN</td>\n",
       "      <td>NaN</td>\n",
       "      <td>NaN</td>\n",
       "      <td>NaN</td>\n",
       "    </tr>\n",
       "    <tr>\n",
       "      <th>2</th>\n",
       "      <td>730888062</td>\n",
       "      <td>1.0</td>\n",
       "      <td>2016.0</td>\n",
       "      <td>0.260645</td>\n",
       "      <td>0.826006</td>\n",
       "      <td>0.416774</td>\n",
       "      <td>-0.489677</td>\n",
       "      <td>1.563329</td>\n",
       "      <td>-1.002218</td>\n",
       "      <td>0.950197</td>\n",
       "      <td>...</td>\n",
       "      <td>NaN</td>\n",
       "      <td>NaN</td>\n",
       "      <td>NaN</td>\n",
       "      <td>NaN</td>\n",
       "      <td>NaN</td>\n",
       "      <td>NaN</td>\n",
       "      <td>NaN</td>\n",
       "      <td>NaN</td>\n",
       "      <td>NaN</td>\n",
       "      <td>NaN</td>\n",
       "    </tr>\n",
       "    <tr>\n",
       "      <th>3</th>\n",
       "      <td>790901023</td>\n",
       "      <td>1.0</td>\n",
       "      <td>2016.0</td>\n",
       "      <td>3.543261</td>\n",
       "      <td>3.848212</td>\n",
       "      <td>3.247752</td>\n",
       "      <td>6.315798</td>\n",
       "      <td>5.451598</td>\n",
       "      <td>6.258752</td>\n",
       "      <td>-0.710563</td>\n",
       "      <td>...</td>\n",
       "      <td>NaN</td>\n",
       "      <td>NaN</td>\n",
       "      <td>NaN</td>\n",
       "      <td>NaN</td>\n",
       "      <td>NaN</td>\n",
       "      <td>NaN</td>\n",
       "      <td>NaN</td>\n",
       "      <td>NaN</td>\n",
       "      <td>NaN</td>\n",
       "      <td>NaN</td>\n",
       "    </tr>\n",
       "    <tr>\n",
       "      <th>4</th>\n",
       "      <td>208114644</td>\n",
       "      <td>1.0</td>\n",
       "      <td>2016.0</td>\n",
       "      <td>94.399780</td>\n",
       "      <td>95.629656</td>\n",
       "      <td>94.061538</td>\n",
       "      <td>94.762503</td>\n",
       "      <td>94.384371</td>\n",
       "      <td>-2.902077</td>\n",
       "      <td>0.128897</td>\n",
       "      <td>...</td>\n",
       "      <td>NaN</td>\n",
       "      <td>NaN</td>\n",
       "      <td>NaN</td>\n",
       "      <td>NaN</td>\n",
       "      <td>NaN</td>\n",
       "      <td>NaN</td>\n",
       "      <td>NaN</td>\n",
       "      <td>NaN</td>\n",
       "      <td>NaN</td>\n",
       "      <td>NaN</td>\n",
       "    </tr>\n",
       "  </tbody>\n",
       "</table>\n",
       "<p>5 rows × 39 columns</p>\n",
       "</div>"
      ],
      "text/plain": [
       "       entid  ispublic  ANCHEYEAR        so1        so2        so3        so4  \\\n",
       "0  272347642       1.0     2016.0  -0.653784  -0.602713  -0.357935   1.391685   \n",
       "1  432161556       1.0     2016.0  -0.883412   0.677451   0.152510  -1.034647   \n",
       "2  730888062       1.0     2016.0   0.260645   0.826006   0.416774  -0.489677   \n",
       "3  790901023       1.0     2016.0   3.543261   3.848212   3.247752   6.315798   \n",
       "4  208114644       1.0     2016.0  94.399780  95.629656  94.061538  94.762503   \n",
       "\n",
       "         so5  totalWagesSo1  totalWagesSo2  ...  REGCAPCUR  RECCAP  PARNUM  \\\n",
       "0  -0.049549       0.846178      -2.542993  ...        NaN     NaN     NaN   \n",
       "1  -1.617859       0.433976      -0.769230  ...        NaN     NaN     NaN   \n",
       "2   1.563329      -1.002218       0.950197  ...        NaN     NaN     NaN   \n",
       "3   5.451598       6.258752      -0.710563  ...        NaN     NaN     NaN   \n",
       "4  94.384371      -2.902077       0.128897  ...        NaN     NaN     NaN   \n",
       "\n",
       "   LIMPARNUM  PARFORM  EXENUM  brand_num  cancel_dum  certificate_num  tax_dum  \n",
       "0        NaN      NaN     NaN        NaN         NaN              NaN      NaN  \n",
       "1        NaN      NaN     NaN        NaN         NaN              NaN      NaN  \n",
       "2        NaN      NaN     NaN        NaN         NaN              NaN      NaN  \n",
       "3        NaN      NaN     NaN        NaN         NaN              NaN      NaN  \n",
       "4        NaN      NaN     NaN        NaN         NaN              NaN      NaN  \n",
       "\n",
       "[5 rows x 39 columns]"
      ]
     },
     "execution_count": 3,
     "metadata": {},
     "output_type": "execute_result"
    }
   ],
   "source": [
    "company_ar_socialfee = pd.read_csv(path+'company_ar_socialfee.csv')\n",
    "company_ar_socialfee.head()"
   ]
  },
  {
   "cell_type": "code",
   "execution_count": 4,
   "metadata": {},
   "outputs": [
    {
     "data": {
      "text/plain": [
       "(10396, 39)"
      ]
     },
     "execution_count": 4,
     "metadata": {},
     "output_type": "execute_result"
    }
   ],
   "source": [
    "company_ar_socialfee.shape"
   ]
  },
  {
   "cell_type": "code",
   "execution_count": 17,
   "metadata": {},
   "outputs": [],
   "source": [
    "# only keep the latest data\n",
    "company_ar_socialfee = company_ar_socialfee[company_ar_socialfee['ispublic'] == 1]\n",
    "company_ar_socialfee = company_ar_socialfee.sort_values(by = 'ANCHEYEAR')"
   ]
  },
  {
   "cell_type": "code",
   "execution_count": 18,
   "metadata": {},
   "outputs": [
    {
     "data": {
      "text/plain": [
       "(397, 39)"
      ]
     },
     "execution_count": 18,
     "metadata": {},
     "output_type": "execute_result"
    }
   ],
   "source": [
    "company_ar_socialfee.shape"
   ]
  },
  {
   "cell_type": "code",
   "execution_count": 20,
   "metadata": {},
   "outputs": [],
   "source": [
    "# company_ar_socialfee.isna().sum()"
   ]
  },
  {
   "cell_type": "code",
   "execution_count": 21,
   "metadata": {},
   "outputs": [],
   "source": [
    "numerical_columns = ['so1', 'totalWagesSo1', 'totalPaymentSo2', 'unPaidSocialInsSo1']"
   ]
  },
  {
   "cell_type": "code",
   "execution_count": 22,
   "metadata": {},
   "outputs": [],
   "source": [
    "def get_numerical_df(df, columns):\n",
    "    keep_columns = columns + ['entid']\n",
    "    df_numerical = df[keep_columns].groupby(\"entid\")\n",
    "    df_numerical = df_numerical.mean()\n",
    "    df_numerical = df_numerical.reset_index()\n",
    "    return df_numerical"
   ]
  },
  {
   "cell_type": "code",
   "execution_count": 23,
   "metadata": {},
   "outputs": [
    {
     "data": {
      "text/plain": [
       "(286, 5)"
      ]
     },
     "execution_count": 23,
     "metadata": {},
     "output_type": "execute_result"
    }
   ],
   "source": [
    "df_numerical = get_numerical_df(company_ar_socialfee, numerical_columns)\n",
    "df_numerical.shape"
   ]
  },
  {
   "cell_type": "code",
   "execution_count": 24,
   "metadata": {},
   "outputs": [
    {
     "data": {
      "text/html": [
       "<div>\n",
       "<style scoped>\n",
       "    .dataframe tbody tr th:only-of-type {\n",
       "        vertical-align: middle;\n",
       "    }\n",
       "\n",
       "    .dataframe tbody tr th {\n",
       "        vertical-align: top;\n",
       "    }\n",
       "\n",
       "    .dataframe thead th {\n",
       "        text-align: right;\n",
       "    }\n",
       "</style>\n",
       "<table border=\"1\" class=\"dataframe\">\n",
       "  <thead>\n",
       "    <tr style=\"text-align: right;\">\n",
       "      <th></th>\n",
       "      <th>entid</th>\n",
       "      <th>so1</th>\n",
       "      <th>totalWagesSo1</th>\n",
       "      <th>totalPaymentSo2</th>\n",
       "      <th>unPaidSocialInsSo1</th>\n",
       "    </tr>\n",
       "  </thead>\n",
       "  <tbody>\n",
       "    <tr>\n",
       "      <th>0</th>\n",
       "      <td>15678213</td>\n",
       "      <td>0.856103</td>\n",
       "      <td>-0.084776</td>\n",
       "      <td>-0.045552</td>\n",
       "      <td>-0.867147</td>\n",
       "    </tr>\n",
       "    <tr>\n",
       "      <th>1</th>\n",
       "      <td>19850270</td>\n",
       "      <td>0.175454</td>\n",
       "      <td>-0.283259</td>\n",
       "      <td>-0.030511</td>\n",
       "      <td>-0.950682</td>\n",
       "    </tr>\n",
       "    <tr>\n",
       "      <th>2</th>\n",
       "      <td>23965087</td>\n",
       "      <td>1.895081</td>\n",
       "      <td>0.361952</td>\n",
       "      <td>-0.555468</td>\n",
       "      <td>-0.575343</td>\n",
       "    </tr>\n",
       "    <tr>\n",
       "      <th>3</th>\n",
       "      <td>32025878</td>\n",
       "      <td>-0.184265</td>\n",
       "      <td>0.712524</td>\n",
       "      <td>-0.106622</td>\n",
       "      <td>0.502909</td>\n",
       "    </tr>\n",
       "    <tr>\n",
       "      <th>4</th>\n",
       "      <td>39306954</td>\n",
       "      <td>149.280767</td>\n",
       "      <td>509.297915</td>\n",
       "      <td>5.833177</td>\n",
       "      <td>0.247615</td>\n",
       "    </tr>\n",
       "  </tbody>\n",
       "</table>\n",
       "</div>"
      ],
      "text/plain": [
       "      entid         so1  totalWagesSo1  totalPaymentSo2  unPaidSocialInsSo1\n",
       "0  15678213    0.856103      -0.084776        -0.045552           -0.867147\n",
       "1  19850270    0.175454      -0.283259        -0.030511           -0.950682\n",
       "2  23965087    1.895081       0.361952        -0.555468           -0.575343\n",
       "3  32025878   -0.184265       0.712524        -0.106622            0.502909\n",
       "4  39306954  149.280767     509.297915         5.833177            0.247615"
      ]
     },
     "execution_count": 24,
     "metadata": {},
     "output_type": "execute_result"
    }
   ],
   "source": [
    "df_numerical.head()"
   ]
  },
  {
   "cell_type": "code",
   "execution_count": 25,
   "metadata": {},
   "outputs": [
    {
     "data": {
      "text/plain": [
       "entid                 0\n",
       "so1                   0\n",
       "totalWagesSo1         4\n",
       "totalPaymentSo2       5\n",
       "unPaidSocialInsSo1    6\n",
       "dtype: int64"
      ]
     },
     "execution_count": 25,
     "metadata": {},
     "output_type": "execute_result"
    }
   ],
   "source": [
    "df_numerical.isna().sum()"
   ]
  },
  {
   "cell_type": "code",
   "execution_count": 11,
   "metadata": {},
   "outputs": [],
   "source": [
    "df_numerical.to_csv(outpath+'company_ar_socialfee_processed.csv')"
   ]
  },
  {
   "cell_type": "code",
   "execution_count": null,
   "metadata": {},
   "outputs": [],
   "source": []
  },
  {
   "cell_type": "code",
   "execution_count": null,
   "metadata": {},
   "outputs": [],
   "source": []
  }
 ],
 "metadata": {
  "kernelspec": {
   "display_name": "Python 3",
   "language": "python",
   "name": "python3"
  },
  "language_info": {
   "codemirror_mode": {
    "name": "ipython",
    "version": 3
   },
   "file_extension": ".py",
   "mimetype": "text/x-python",
   "name": "python",
   "nbconvert_exporter": "python",
   "pygments_lexer": "ipython3",
   "version": "3.8.8"
  }
 },
 "nbformat": 4,
 "nbformat_minor": 4
}
